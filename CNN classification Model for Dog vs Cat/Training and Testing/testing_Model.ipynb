{
  "nbformat": 4,
  "nbformat_minor": 0,
  "metadata": {
    "colab": {
      "provenance": []
    },
    "kernelspec": {
      "name": "python3",
      "display_name": "Python 3"
    },
    "language_info": {
      "name": "python"
    }
  },
  "cells": [
    {
      "cell_type": "code",
      "execution_count": 1,
      "metadata": {
        "colab": {
          "base_uri": "https://localhost:8080/"
        },
        "id": "lIYdn1woOS1n",
        "outputId": "02f939d3-173a-4df8-fb76-39ba7ed23ab5"
      },
      "outputs": [
        {
          "output_type": "stream",
          "name": "stderr",
          "text": [
            "WARNING:absl:Compiled the loaded model, but the compiled metrics have yet to be built. `model.compile_metrics` will be empty until you train or evaluate the model.\n"
          ]
        }
      ],
      "source": [
        "from tensorflow.keras.models import load_model\n",
        "model = load_model('/content/Dog-vs-Cat_model_of_HR.h5')\n",
        "#onnx,h5,tflite,pkl"
      ]
    },
    {
      "cell_type": "code",
      "source": [
        "from zipfile import ZipFile\n",
        "file_name = '/content/Sample Test Images(dog vs cat).zip'\n",
        "with ZipFile(file_name,'r') as zip:\n",
        "  zip.extractall()\n",
        "  print('Done')"
      ],
      "metadata": {
        "colab": {
          "base_uri": "https://localhost:8080/"
        },
        "id": "yy_l6SJZzGlU",
        "outputId": "67095318-dac2-4346-ea7b-75d5c0d6d3c0"
      },
      "execution_count": 11,
      "outputs": [
        {
          "output_type": "stream",
          "name": "stdout",
          "text": [
            "Done\n"
          ]
        }
      ]
    },
    {
      "cell_type": "code",
      "source": [
        "import cv2\n",
        "import numpy as np\n",
        "import os\n",
        "def preprocess_image(image_path, target_size=(150,150)):\n",
        "  img = cv2.imread(image_path)\n",
        "  img = cv2.resize(img,target_size)\n",
        "  img = img/ 255.0\n",
        "  img = np.expand_dims(img, axis=0)\n",
        "  return img"
      ],
      "metadata": {
        "id": "Nw0QgazjywaH"
      },
      "execution_count": 12,
      "outputs": []
    },
    {
      "cell_type": "code",
      "source": [
        "test_folder = \"/content/Sample Test Images(dog vs cat)\"\n",
        "class_labels = [\"Cat\", \"Dog\"]\n",
        "for filename in os.listdir(test_folder):\n",
        "  image_path = os.path.join(test_folder, filename)\n",
        "  try:\n",
        "    img =preprocess_image(image_path)\n",
        "    prediction = model.predict(img)\n",
        "    predicted_class = np.argmax(prediction, axis=1)[0]\n",
        "    print(f\"{filename} --> {class_labels[predicted_class]}\")\n",
        "  except:\n",
        "    print(f\"Skipped: {filename}\")"
      ],
      "metadata": {
        "colab": {
          "base_uri": "https://localhost:8080/"
        },
        "id": "cz4J--XA0VBu",
        "outputId": "cfac7cf8-7225-4bfd-feb0-dccf124d6a27"
      },
      "execution_count": 15,
      "outputs": [
        {
          "output_type": "stream",
          "name": "stdout",
          "text": [
            "\u001b[1m1/1\u001b[0m \u001b[32m━━━━━━━━━━━━━━━━━━━━\u001b[0m\u001b[37m\u001b[0m \u001b[1m0s\u001b[0m 86ms/step\n",
            "test5.jpg --> Cat\n",
            "\u001b[1m1/1\u001b[0m \u001b[32m━━━━━━━━━━━━━━━━━━━━\u001b[0m\u001b[37m\u001b[0m \u001b[1m0s\u001b[0m 86ms/step\n",
            "test3.jpg --> Cat\n",
            "\u001b[1m1/1\u001b[0m \u001b[32m━━━━━━━━━━━━━━━━━━━━\u001b[0m\u001b[37m\u001b[0m \u001b[1m0s\u001b[0m 87ms/step\n",
            "test2.jpg --> Cat\n",
            "\u001b[1m1/1\u001b[0m \u001b[32m━━━━━━━━━━━━━━━━━━━━\u001b[0m\u001b[37m\u001b[0m \u001b[1m0s\u001b[0m 139ms/step\n",
            "test1.jpg --> Dog\n",
            "\u001b[1m1/1\u001b[0m \u001b[32m━━━━━━━━━━━━━━━━━━━━\u001b[0m\u001b[37m\u001b[0m \u001b[1m0s\u001b[0m 137ms/step\n",
            "test6.jpg --> Dog\n",
            "\u001b[1m1/1\u001b[0m \u001b[32m━━━━━━━━━━━━━━━━━━━━\u001b[0m\u001b[37m\u001b[0m \u001b[1m0s\u001b[0m 155ms/step\n",
            "test4.jpg --> Dog\n"
          ]
        }
      ]
    }
  ]
}